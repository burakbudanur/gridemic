{
 "cells": [
  {
   "cell_type": "code",
   "execution_count": 9,
   "metadata": {},
   "outputs": [],
   "source": [
    "import numpy as np \n",
    "from matplotlib import pyplot as plt\n",
    "from os import sys\n",
    "from ipywidgets import interact, IntSlider"
   ]
  },
  {
   "cell_type": "code",
   "execution_count": 10,
   "metadata": {},
   "outputs": [],
   "source": [
    "sys.path.append('../')\n",
    "import gridemic"
   ]
  },
  {
   "cell_type": "code",
   "execution_count": 11,
   "metadata": {},
   "outputs": [],
   "source": [
    "SEIIRT = gridemic.Model(seed_random = 1, N = 50, tauW = 0.175, etaW = 0.175, \n",
    "                 tauS = 0.175, etaS = 0.175, prob_trace = 0.75, prob_detect=0.75,\n",
    "                 num_tests = 5)\n",
    "basic_reproduction_number = SEIIRT.reproduction_number()\n",
    "SEIIRT.add_infectious()"
   ]
  },
  {
   "cell_type": "code",
   "execution_count": 12,
   "metadata": {},
   "outputs": [
    {
     "data": {
      "text/plain": [
       "2.288239372854095"
      ]
     },
     "execution_count": 12,
     "metadata": {},
     "output_type": "execute_result"
    }
   ],
   "source": [
    "basic_reproduction_number"
   ]
  },
  {
   "cell_type": "code",
   "execution_count": 13,
   "metadata": {},
   "outputs": [
    {
     "name": "stderr",
     "output_type": "stream",
     "text": [
      "../gridemic.py:180: UserWarning: Use the colorbar set_ticks() method instead.\n",
      "  cbar.ax.set_yticks([0, 1, 2, 3, 4])\n",
      "../gridemic.py:181: UserWarning: FixedFormatter should only be used together with FixedLocator\n",
      "  cbar.ax.set_yticklabels(['$S$', '$E$', '$I_W$', '$I_S$', '$R$'])\n",
      "../gridemic.py:184: UserWarning: No contour levels were found within the data range.\n",
      "  ax.contour(self.testing_state, [1, 2, 3, 4])\n"
     ]
    }
   ],
   "source": [
    "t_final = 200\n",
    "\n",
    "figures = []\n",
    "\n",
    "population = np.zeros((t_final + 1, 6))\n",
    "\n",
    "while SEIIRT.time <= t_final:\n",
    "    fig = plt.figure(figsize=(12, 9))\n",
    "    ax = fig.gca()\n",
    "\n",
    "    ax = SEIIRT.visualize_population(ax)\n",
    "    ax.set_title(f'Day {SEIIRT.time}')\n",
    "    figures.append(fig)\n",
    "    plt.close()\n",
    "\n",
    "    population[SEIIRT.time, 0] = np.sum(SEIIRT.disease_state==0) # S\n",
    "    population[SEIIRT.time, 1] = np.sum(SEIIRT.disease_state==1) # E\n",
    "    population[SEIIRT.time, 2] = np.sum(SEIIRT.disease_state==2) # I_w\n",
    "    population[SEIIRT.time, 3] = np.sum(SEIIRT.disease_state==3) # I_s\n",
    "    population[SEIIRT.time, 4] = np.sum(SEIIRT.disease_state==4) # I_R\n",
    "    population[SEIIRT.time, 5] = (np.sum(SEIIRT.testing_state==3) \n",
    "                        + np.sum(SEIIRT.testing_state==4)) # cases   \n",
    "\n",
    "    SEIIRT.evolve()\n"
   ]
  },
  {
   "cell_type": "code",
   "execution_count": 14,
   "metadata": {},
   "outputs": [],
   "source": [
    "def show_population(day):\n",
    "    return figures[day]"
   ]
  },
  {
   "cell_type": "code",
   "execution_count": 15,
   "metadata": {},
   "outputs": [
    {
     "data": {
      "application/vnd.jupyter.widget-view+json": {
       "model_id": "a330a37e51924bc681bfc541b5a0b8fc",
       "version_major": 2,
       "version_minor": 0
      },
      "text/plain": [
       "interactive(children=(IntSlider(value=0, description='day', max=200), Output()), _dom_classes=('widget-interac…"
      ]
     },
     "metadata": {},
     "output_type": "display_data"
    },
    {
     "data": {
      "text/plain": [
       "<function __main__.show_population(day)>"
      ]
     },
     "execution_count": 15,
     "metadata": {},
     "output_type": "execute_result"
    }
   ],
   "source": [
    "interact(show_population, day = IntSlider(min = 0, max = t_final, step = 1, value = 0))"
   ]
  },
  {
   "cell_type": "code",
   "execution_count": 16,
   "metadata": {},
   "outputs": [
    {
     "data": {
      "text/plain": [
       "<matplotlib.legend.Legend at 0x7f017fe86bb0>"
      ]
     },
     "execution_count": 16,
     "metadata": {},
     "output_type": "execute_result"
    },
    {
     "data": {
      "image/png": "[encoded data removed]",
      "text/plain": [
       "<Figure size 432x432 with 1 Axes>"
      ]
     },
     "metadata": {
      "needs_background": "light"
     },
     "output_type": "display_data"
    }
   ],
   "source": [
    "fig_pop = plt.figure(figsize = (6, 6))\n",
    "ax = fig_pop.gca()\n",
    "ax.plot(population[:, 0], label='$S$')\n",
    "ax.plot(population[:, 1], label='$E$')\n",
    "ax.plot(population[:, 2], label='$I_w$')\n",
    "ax.plot(population[:, 3], label='$I_s$')\n",
    "ax.plot(population[:, 4], label='$R$')\n",
    "ax.plot(population[:, 5], label='$C$')\n",
    "ax.set_xlabel('Days')\n",
    "ax.set_ylabel('Number of people')\n",
    "ax.legend()"
   ]
  },
  {
   "cell_type": "code",
   "execution_count": null,
   "metadata": {},
   "outputs": [],
   "source": []
  },
  {
   "cell_type": "code",
   "execution_count": null,
   "metadata": {},
   "outputs": [],
   "source": []
  }
 ],
 "metadata": {
  "kernelspec": {
   "display_name": "Python 3",
   "language": "python",
   "name": "python3"
  },
  "language_info": {
   "codemirror_mode": {
    "name": "ipython",
    "version": 3
   },
   "file_extension": ".py",
   "mimetype": "text/x-python",
   "name": "python",
   "nbconvert_exporter": "python",
   "pygments_lexer": "ipython3",
   "version": "3.8.5"
  }
 },
 "nbformat": 4,
 "nbformat_minor": 2
}
