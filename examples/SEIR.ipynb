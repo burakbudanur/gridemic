{
 "cells": [
  {
   "cell_type": "code",
   "execution_count": 1,
   "metadata": {},
   "outputs": [],
   "source": [
    "import numpy as np \n",
    "from matplotlib import pyplot as plt\n",
    "from os import sys"
   ]
  },
  {
   "cell_type": "code",
   "execution_count": 2,
   "metadata": {},
   "outputs": [],
   "source": [
    "sys.path.append('../')\n",
    "import gridemic"
   ]
  },
  {
   "cell_type": "code",
   "execution_count": 3,
   "metadata": {
    "tags": []
   },
   "outputs": [],
   "source": [
    "R_zero = []\n",
    "final_infected_ratio = []\n",
    "\n",
    "for prob_trans in np.linspace(0.05, 0.15, 21): \n",
    "\n",
    "    SEIR = gridemic.Model(seed_random = 1, N = 500, \n",
    "                         tauS = 1.0 * prob_trans, etaS = 0.5 * prob_trans, \n",
    "                         prob_symptom = 1.0, test_begin=1e99)\n",
    "    \n",
    "    basic_reproduction_number = SEIR.reproduction_number()\n",
    "\n",
    "    population = SEIR.simulate(NTime = 1000)\n",
    "\n",
    "    final_infected_ratio.append(np.sum(population[SEIR.time - 1, 1:5]) \n",
    "                             / (SEIR.N) ** 2)\n",
    "    R_zero.append(basic_reproduction_number)"
   ]
  },
  {
   "cell_type": "code",
   "execution_count": 4,
   "metadata": {},
   "outputs": [
    {
     "data": {
      "text/plain": [
       "Text(0, 0.5, 'Final infected ratio')"
      ]
     },
     "execution_count": 4,
     "metadata": {},
     "output_type": "execute_result"
    },
    {
     "data": {
      "image/png": "[encoded data removed]",
      "text/plain": [
       "<Figure size 432x288 with 1 Axes>"
      ]
     },
     "metadata": {
      "needs_background": "light"
     },
     "output_type": "display_data"
    }
   ],
   "source": [
    "plt.plot(R_zero, final_infected_ratio)\n",
    "plt.xlabel(\"$R_0$\")\n",
    "plt.ylabel(\"Final infected ratio\")"
   ]
  },
  {
   "cell_type": "code",
   "execution_count": null,
   "metadata": {},
   "outputs": [],
   "source": []
  }
 ],
 "metadata": {
  "kernelspec": {
   "display_name": "Python 3",
   "language": "python",
   "name": "python3"
  },
  "language_info": {
   "codemirror_mode": {
    "name": "ipython",
    "version": 3
   },
   "file_extension": ".py",
   "mimetype": "text/x-python",
   "name": "python",
   "nbconvert_exporter": "python",
   "pygments_lexer": "ipython3",
   "version": "3.8.5"
  }
 },
 "nbformat": 4,
 "nbformat_minor": 2
}
